{
  "nbformat": 4,
  "nbformat_minor": 0,
  "metadata": {
    "colab": {
      "name": "titanic:machine_larning_decision_tree.ipynb",
      "version": "0.3.2",
      "provenance": [],
      "collapsed_sections": [],
      "include_colab_link": true
    },
    "kernelspec": {
      "name": "python3",
      "display_name": "Python 3"
    }
  },
  "cells": [
    {
      "cell_type": "markdown",
      "metadata": {
        "id": "view-in-github",
        "colab_type": "text"
      },
      "source": [
        "<a href=\"https://colab.research.google.com/github/devbijoy274/AI_Implementation/blob/master/titanic_machine_larning_decision_tree.ipynb\" target=\"_parent\"><img src=\"https://colab.research.google.com/assets/colab-badge.svg\" alt=\"Open In Colab\"/></a>"
      ]
    },
    {
      "metadata": {
        "id": "CN1oSxKUQVUN",
        "colab_type": "code",
        "outputId": "d11aab9d-13a5-4253-cb4b-e6975550cc63",
        "colab": {
          "base_uri": "https://localhost:8080/",
          "height": 119
        }
      },
      "cell_type": "code",
      "source": [
        "import pandas as pd\n",
        "\n",
        "train = pd.read_csv(\"train.csv\")\n",
        "test = pd.read_csv(\"test.csv\")\n",
        "sample_sub = pd.read_csv(\"gender_submission.csv\")\n",
        "\n",
        "print(sample_sub.head(5))"
      ],
      "execution_count": 0,
      "outputs": [
        {
          "output_type": "stream",
          "text": [
            "   PassengerId  Survived\n",
            "0          892         0\n",
            "1          893         1\n",
            "2          894         0\n",
            "3          895         0\n",
            "4          896         1\n"
          ],
          "name": "stdout"
        }
      ]
    },
    {
      "metadata": {
        "id": "e7XKzf0oRLgt",
        "colab_type": "code",
        "outputId": "e05ad0c4-6373-4ac9-d768-375ee1241abf",
        "colab": {
          "base_uri": "https://localhost:8080/",
          "height": 357
        }
      },
      "cell_type": "code",
      "source": [
        "print(train.head(5))"
      ],
      "execution_count": 0,
      "outputs": [
        {
          "output_type": "stream",
          "text": [
            "   PassengerId  Survived  Pclass  \\\n",
            "0            1         0       3   \n",
            "1            2         1       1   \n",
            "2            3         1       3   \n",
            "3            4         1       1   \n",
            "4            5         0       3   \n",
            "\n",
            "                                                Name     Sex   Age  SibSp  \\\n",
            "0                            Braund, Mr. Owen Harris    male  22.0      1   \n",
            "1  Cumings, Mrs. John Bradley (Florence Briggs Th...  female  38.0      1   \n",
            "2                             Heikkinen, Miss. Laina  female  26.0      0   \n",
            "3       Futrelle, Mrs. Jacques Heath (Lily May Peel)  female  35.0      1   \n",
            "4                           Allen, Mr. William Henry    male  35.0      0   \n",
            "\n",
            "   Parch            Ticket     Fare Cabin Embarked  \n",
            "0      0         A/5 21171   7.2500   NaN        S  \n",
            "1      0          PC 17599  71.2833   C85        C  \n",
            "2      0  STON/O2. 3101282   7.9250   NaN        S  \n",
            "3      0            113803  53.1000  C123        S  \n",
            "4      0            373450   8.0500   NaN        S  \n"
          ],
          "name": "stdout"
        }
      ]
    },
    {
      "metadata": {
        "id": "XP7e63csRzhh",
        "colab_type": "code",
        "outputId": "637c51d5-6f2c-49bc-d1da-78f6742e2d6f",
        "colab": {
          "base_uri": "https://localhost:8080/",
          "height": 238
        }
      },
      "cell_type": "code",
      "source": [
        "y = train['Survived'].copy()\n",
        "\n",
        "features = ['Pclass','Sex','Age','SibSp','Parch','Fare','Embarked']\n",
        "\n",
        "X = train[features].copy()\n",
        "\n",
        "X = pd.get_dummies(X)\n",
        "print(X.head(5))"
      ],
      "execution_count": 0,
      "outputs": [
        {
          "output_type": "stream",
          "text": [
            "   Pclass   Age  SibSp  Parch     Fare  Sex_female  Sex_male  Embarked_C  \\\n",
            "0       3  22.0      1      0   7.2500           0         1           0   \n",
            "1       1  38.0      1      0  71.2833           1         0           1   \n",
            "2       3  26.0      0      0   7.9250           1         0           0   \n",
            "3       1  35.0      1      0  53.1000           1         0           0   \n",
            "4       3  35.0      0      0   8.0500           0         1           0   \n",
            "\n",
            "   Embarked_Q  Embarked_S  \n",
            "0           0           1  \n",
            "1           0           0  \n",
            "2           0           1  \n",
            "3           0           1  \n",
            "4           0           1  \n"
          ],
          "name": "stdout"
        }
      ]
    },
    {
      "metadata": {
        "id": "OzxGsmjRTSuu",
        "colab_type": "code",
        "outputId": "83d20a7d-0473-4c96-f611-18c16177c333",
        "colab": {
          "base_uri": "https://localhost:8080/",
          "height": 119
        }
      },
      "cell_type": "code",
      "source": [
        "import numpy as np\n",
        "from sklearn.impute import SimpleImputer\n",
        "from sklearn.model_selection import train_test_split\n",
        "\n",
        "firstImp = SimpleImputer(missing_values=np.nan, strategy='mean')\n",
        "\n",
        "X = pd.DataFrame(firstImp.fit_transform(X))\n",
        "\n",
        "Xtrain, Xtest, ytrain, ytest = train_test_split(X,y, random_state =1, test_size=0.33)\n",
        "\n",
        "print(Xtrain.head(5))\n"
      ],
      "execution_count": 0,
      "outputs": [
        {
          "output_type": "stream",
          "text": [
            "       0          1    2    3        4    5    6    7    8    9\n",
            "496  1.0  54.000000  1.0  0.0  78.2667  1.0  0.0  1.0  0.0  0.0\n",
            "14   3.0  14.000000  0.0  0.0   7.8542  1.0  0.0  0.0  0.0  1.0\n",
            "82   3.0  29.699118  0.0  0.0   7.7875  1.0  0.0  0.0  1.0  0.0\n",
            "657  3.0  32.000000  1.0  1.0  15.5000  1.0  0.0  0.0  1.0  0.0\n",
            "388  3.0  29.699118  0.0  0.0   7.7292  0.0  1.0  0.0  1.0  0.0\n"
          ],
          "name": "stdout"
        }
      ]
    },
    {
      "metadata": {
        "id": "fh-AfmYjvqkw",
        "colab_type": "code",
        "outputId": "cddca9ce-87cb-47df-e6fd-02165dd74d91",
        "colab": {
          "base_uri": "https://localhost:8080/",
          "height": 833
        }
      },
      "cell_type": "code",
      "source": [
        "from sklearn.tree import DecisionTreeClassifier\n",
        "from sklearn.metrics import accuracy_score\n",
        "\n",
        "def Accuracy_Tracker(Xtrain, Xtest, ytrain, ytest,n):\n",
        "  model = DecisionTreeClassifier(max_leaf_nodes=n, random_state=1)\n",
        "  model.fit(Xtrain, ytrain)\n",
        "  print(n,accuracy_score(ytest, model.predict(Xtest)))\n",
        "  \n",
        "for i in range(2,50):\n",
        "    Accuracy_Tracker(Xtrain,Xtest,ytrain,ytest,i)"
      ],
      "execution_count": 0,
      "outputs": [
        {
          "output_type": "stream",
          "text": [
            "2 0.7559322033898305\n",
            "3 0.7559322033898305\n",
            "4 0.7423728813559322\n",
            "5 0.7661016949152543\n",
            "6 0.7796610169491526\n",
            "7 0.7796610169491526\n",
            "8 0.7796610169491526\n",
            "9 0.7830508474576271\n",
            "10 0.7830508474576271\n",
            "11 0.7830508474576271\n",
            "12 0.7864406779661017\n",
            "13 0.7864406779661017\n",
            "14 0.7864406779661017\n",
            "15 0.7830508474576271\n",
            "16 0.7830508474576271\n",
            "17 0.7830508474576271\n",
            "18 0.7830508474576271\n",
            "19 0.7864406779661017\n",
            "20 0.7864406779661017\n",
            "21 0.7864406779661017\n",
            "22 0.7864406779661017\n",
            "23 0.7830508474576271\n",
            "24 0.7830508474576271\n",
            "25 0.7864406779661017\n",
            "26 0.7864406779661017\n",
            "27 0.7864406779661017\n",
            "28 0.7864406779661017\n",
            "29 0.7864406779661017\n",
            "30 0.7864406779661017\n",
            "31 0.7864406779661017\n",
            "32 0.7864406779661017\n",
            "33 0.7864406779661017\n",
            "34 0.7864406779661017\n",
            "35 0.7864406779661017\n",
            "36 0.7762711864406779\n",
            "37 0.7762711864406779\n",
            "38 0.7762711864406779\n",
            "39 0.7762711864406779\n",
            "40 0.7728813559322034\n",
            "41 0.7728813559322034\n",
            "42 0.7728813559322034\n",
            "43 0.7694915254237288\n",
            "44 0.7694915254237288\n",
            "45 0.7694915254237288\n",
            "46 0.7694915254237288\n",
            "47 0.7661016949152543\n",
            "48 0.7661016949152543\n",
            "49 0.7661016949152543\n"
          ],
          "name": "stdout"
        }
      ]
    },
    {
      "metadata": {
        "id": "0-lPp0j9d4Lb",
        "colab_type": "code",
        "outputId": "1a7e7029-494a-463c-ab09-983310ad21d8",
        "colab": {
          "base_uri": "https://localhost:8080/",
          "height": 34
        }
      },
      "cell_type": "code",
      "source": [
        "modeltree = DecisionTreeClassifier(max_leaf_nodes=12, random_state=1)\n",
        "modeltree.fit(X,y)\n",
        "\n",
        "print(accuracy_score(ytest, modeltree.predict(Xtest)))"
      ],
      "execution_count": 0,
      "outputs": [
        {
          "output_type": "stream",
          "text": [
            "0.8135593220338984\n"
          ],
          "name": "stdout"
        }
      ]
    },
    {
      "metadata": {
        "id": "SbtI1zRrgOuH",
        "colab_type": "code",
        "colab": {}
      },
      "cell_type": "code",
      "source": [
        "Xtest = test[features].copy()\n",
        "\n",
        "Xtest = pd.get_dummies(Xtest)\n",
        "\n",
        "xtest = pd.DataFrame(firstImp.fit_transform(Xtest))\n",
        "\n",
        "result = modeltree.predict(xtest)"
      ],
      "execution_count": 0,
      "outputs": []
    },
    {
      "metadata": {
        "id": "QBJw4GcNmjwr",
        "colab_type": "code",
        "colab": {}
      },
      "cell_type": "code",
      "source": [
        "from google.colab import files\n",
        "\n",
        "answer = {\"PassengetId\": test['PassengerId'],'Survived':result}\n",
        "answer = pd.DataFrame(answer)\n",
        "\n",
        "answer.to_csv('answer.csv',index=False)\n",
        "files.download('answer.csv')"
      ],
      "execution_count": 0,
      "outputs": []
    }
  ]
}