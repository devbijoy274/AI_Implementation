{
  "nbformat": 4,
  "nbformat_minor": 0,
  "metadata": {
    "colab": {
      "name": "review_form_evaluation.ipynb",
      "version": "0.3.2",
      "provenance": [],
      "collapsed_sections": [],
      "toc_visible": true,
      "include_colab_link": true
    },
    "kernelspec": {
      "name": "python3",
      "display_name": "Python 3"
    }
  },
  "cells": [
    {
      "cell_type": "markdown",
      "metadata": {
        "id": "view-in-github",
        "colab_type": "text"
      },
      "source": [
        "<a href=\"https://colab.research.google.com/github/devbijoy274/ai_Implementation/blob/master/review_form_evaluation.ipynb\" target=\"_parent\"><img src=\"https://colab.research.google.com/assets/colab-badge.svg\" alt=\"Open In Colab\"/></a>"
      ]
    },
    {
      "cell_type": "markdown",
      "metadata": {
        "id": "TJUBHAR2eM1a",
        "colab_type": "text"
      },
      "source": [
        "# **An auto perfomance evaluator**"
      ]
    },
    {
      "cell_type": "code",
      "metadata": {
        "id": "lwfOwvqvw1m7",
        "colab_type": "code",
        "colab": {}
      },
      "source": [
        "class EvaluateFeedback:\n",
        "  def __init__(self, data):\n",
        "    self.data = data\n",
        "    \n",
        "  def get_ratings_from_feedback(self, feedback):\n",
        "    sentences = feedback.split(\"\\n\")\n",
        "    total_rating = 0;\n",
        "    comp_sentence = \"\"\n",
        "    for sent in sentences:\n",
        "      comp_sentence += sent\n",
        "    feedback_sentence = \"\"\n",
        "    words = self.word_tok.tokenize(comp_sentence)\n",
        "    for val in words:\n",
        "      feedback_sentence += val + \" \"\n",
        "    feedback_sentence = feedback_sentence.rstrip()\n",
        "    blob = TextBlob(feedback_sentence)\n",
        "    rating = blob.sentiment.polarity\n",
        "    return rating\n",
        "  \n",
        "  def get_rate_scale(self, value):\n",
        "    rating = 1;\n",
        "    if (value <= 0):\n",
        "      rating = 1\n",
        "    elif(value > 0 and value <= 0.4):\n",
        "      rating = 2\n",
        "    elif(value > 0.4 and value <= 0.6):\n",
        "      rating = 3\n",
        "    elif(value > 0.6):\n",
        "      rating = 4\n",
        "    return rating \n",
        "  \n",
        "  def get_feedback(self):\n",
        "    accomplishment = self.data.iloc[7]\n",
        "    ratings_classes = ['Needs Improvement', 'Meets Expectations', 'Consistently Exceeds Expectations', 'Occasionally Exceeds Expectations']\n",
        "    feedback_classes = ['Negative', 'good', 'very good', 'excellent']\n",
        "\n",
        "    is_mgr2_not_present = pd.isnull(data.iloc[3,5])\n",
        "\n",
        "    accomplishment_mgr1_rating = ratings_classes.index(accomplishment[5]) + 1\n",
        "    accomplishment_mgr1_feedback = accomplishment[4]\n",
        "    \n",
        "    self.word_tok = RegexpTokenizer(r'\\w+')\n",
        "    num_tok = RegexpTokenizer(r'\\D+')\n",
        "    mgr1_feedback_evaluated = EvaluateFeedback.get_ratings_from_feedback(self, accomplishment_mgr1_feedback)\n",
        "    mgr1_feedback_rate_scale = EvaluateFeedback.get_rate_scale(self, mgr1_feedback_evaluated)\n",
        "    \n",
        "    contributions = data.iloc[8]\n",
        "    contributions_mgr1_rating = ratings_classes.index(contributions[5]) + 1\n",
        "    contributions_mgr1_feedback = contributions[4]\n",
        "    \n",
        "    mgr1_feedback_evaluated_v2 = EvaluateFeedback.get_ratings_from_feedback(self, contributions_mgr1_feedback)\n",
        "    mgr1_feedback_rate_scale_v2 = EvaluateFeedback.get_rate_scale(self,mgr1_feedback_evaluated_v2)\n",
        "    mg1_overall_rating = math.ceil((accomplishment_mgr1_rating + contributions_mgr1_rating ) / 2)\n",
        "    mg1_overall_feedback = (mgr1_feedback_rate_scale + mgr1_feedback_rate_scale_v2) / 2\n",
        "\n",
        "    if (not(is_mgr2_not_present)):      \n",
        "      contributions_mgr2_rating = ratings_classes.index(contributions[7]) + 1\n",
        "      contributions_mgr2_feedback = contributions[6]\n",
        "      \n",
        "      mgr2_feedback_evaluated_v2 = EvaluateFeedback.get_ratings_from_feedback(self, contributions_mgr2_feedback)\n",
        "      mgr2_feedback_rate_scale_v2 = EvaluateFeedback.get_rate_scale(self, mgr2_feedback_evaluated_v2)\n",
        "\n",
        "      accomplishment_mgr2_rating = ratings_classes.index(accomplishment[7]) + 1\n",
        "      accomplishment_mgr2_feedback = accomplishment[6]\n",
        "      mgr2_feedback_evaluated = EvaluateFeedback.get_ratings_from_feedback(self, accomplishment_mgr2_feedback)\n",
        "      mgr2_feedback_rate_scale = EvaluateFeedback.get_rate_scale(self, mgr2_feedback_evaluated)\n",
        "\n",
        "      mg2_overall_rating = math.ceil((accomplishment_mgr2_rating + contributions_mgr2_rating) / 2)\n",
        "      mg2_overall_feedback = (mgr2_feedback_rate_scale + mgr2_feedback_rate_scale_v2) / 2\n",
        "\n",
        "    if(is_mgr2_not_present):\n",
        "      overall_emp_rating = mg1_overall_rating\n",
        "      overall_emp_feedback = mg1_overall_feedback\n",
        "      return [ratings_classes[int(overall_emp_rating) - 1], feedback_classes[int(overall_emp_feedback) - 1]]\n",
        "    else:\n",
        "      overall_emp_rating = (mg1_overall_rating + mg2_overall_rating)/2\n",
        "      overall_emp_feedback = (mg1_overall_feedback + mg2_overall_feedback)/2\n",
        "      return [ratings_classes[int(overall_emp_rating) - 1], feedback_classes[int(overall_emp_feedback) - 1]]"
      ],
      "execution_count": 0,
      "outputs": []
    },
    {
      "cell_type": "code",
      "metadata": {
        "id": "Dq48wFAyyRdy",
        "colab_type": "code",
        "colab": {
          "base_uri": "https://localhost:8080/",
          "height": 136
        },
        "outputId": "30dc3690-2452-44f0-ce5b-2be52521cca8"
      },
      "source": [
        "from nltk.tokenize import RegexpTokenizer\n",
        "import pandas as pd\n",
        "import numpy as np\n",
        "from textblob import TextBlob\n",
        "import nltk\n",
        "import math\n",
        "import pdb\n",
        "\n",
        "nltk.download('punkt')\n",
        "\n",
        "year = \"2018_19\"\n",
        "\n",
        "emp_no = ['MSI1', 'MSI2', 'MSI3', 'MSI4', 'MSI5']\n",
        "emp_name = ['abc', 'def', 'ghi', 'jkl', 'mno']\n",
        "\n",
        "emp_ratings, emp_feedback = [], []\n",
        "\n",
        "for i in range(len(emp_no)):\n",
        "  employee_doc = emp_no[i] + \"_\" + emp_name[i] + \"_\" + year+\".xlsx\"\n",
        "  data = pd.read_excel(employee_doc)\n",
        "  emp_ratings.append(EvaluateFeedback(data).get_feedback()[0])\n",
        "  emp_feedback.append(EvaluateFeedback(data).get_feedback()[1])"
      ],
      "execution_count": 2,
      "outputs": [
        {
          "output_type": "stream",
          "text": [
            "[nltk_data] Downloading package punkt to /root/nltk_data...\n",
            "[nltk_data]   Unzipping tokenizers/punkt.zip.\n"
          ],
          "name": "stdout"
        },
        {
          "output_type": "execute_result",
          "data": {
            "text/plain": [
              "['Meets Expectations',\n",
              " 'Meets Expectations',\n",
              " 'Meets Expectations',\n",
              " 'Meets Expectations',\n",
              " 'Meets Expectations']"
            ]
          },
          "metadata": {
            "tags": []
          },
          "execution_count": 2
        }
      ]
    },
    {
      "cell_type": "code",
      "metadata": {
        "id": "iJrpEAOk2lbM",
        "colab_type": "code",
        "colab": {
          "base_uri": "https://localhost:8080/",
          "height": 204
        },
        "outputId": "484b2765-8959-4944-c784-3cf0f8888e41"
      },
      "source": [
        "df = pd.DataFrame({'Emp_ID': emp_no,\n",
        "                  'Emp_Name': emp_name,\n",
        "                  'Emp_Rating': emp_ratings,\n",
        "                  'Emp_Feedback': emp_feedback})\n",
        "df"
      ],
      "execution_count": 4,
      "outputs": [
        {
          "output_type": "execute_result",
          "data": {
            "text/html": [
              "<div>\n",
              "<style scoped>\n",
              "    .dataframe tbody tr th:only-of-type {\n",
              "        vertical-align: middle;\n",
              "    }\n",
              "\n",
              "    .dataframe tbody tr th {\n",
              "        vertical-align: top;\n",
              "    }\n",
              "\n",
              "    .dataframe thead th {\n",
              "        text-align: right;\n",
              "    }\n",
              "</style>\n",
              "<table border=\"1\" class=\"dataframe\">\n",
              "  <thead>\n",
              "    <tr style=\"text-align: right;\">\n",
              "      <th></th>\n",
              "      <th>Emp_ID</th>\n",
              "      <th>Emp_Name</th>\n",
              "      <th>Emp_Rating</th>\n",
              "      <th>Emp_Feedback</th>\n",
              "    </tr>\n",
              "  </thead>\n",
              "  <tbody>\n",
              "    <tr>\n",
              "      <th>0</th>\n",
              "      <td>1</td>\n",
              "      <td>abc</td>\n",
              "      <td>Meets Expectations</td>\n",
              "      <td>very good</td>\n",
              "    </tr>\n",
              "    <tr>\n",
              "      <th>1</th>\n",
              "      <td>2</td>\n",
              "      <td>def</td>\n",
              "      <td>Meets Expectations</td>\n",
              "      <td>very good</td>\n",
              "    </tr>\n",
              "    <tr>\n",
              "      <th>2</th>\n",
              "      <td>3</td>\n",
              "      <td>ghi</td>\n",
              "      <td>Meets Expectations</td>\n",
              "      <td>very good</td>\n",
              "    </tr>\n",
              "    <tr>\n",
              "      <th>3</th>\n",
              "      <td>4</td>\n",
              "      <td>jkl</td>\n",
              "      <td>Meets Expectations</td>\n",
              "      <td>very good</td>\n",
              "    </tr>\n",
              "    <tr>\n",
              "      <th>4</th>\n",
              "      <td>5</td>\n",
              "      <td>mno</td>\n",
              "      <td>Meets Expectations</td>\n",
              "      <td>very good</td>\n",
              "    </tr>\n",
              "  </tbody>\n",
              "</table>\n",
              "</div>"
            ],
            "text/plain": [
              "   Emp_ID Emp_Name          Emp_Rating Emp_Feedback\n",
              "0       1      abc  Meets Expectations    very good\n",
              "1       2      def  Meets Expectations    very good\n",
              "2       3      ghi  Meets Expectations    very good\n",
              "3       4      jkl  Meets Expectations    very good\n",
              "4       5      mno  Meets Expectations    very good"
            ]
          },
          "metadata": {
            "tags": []
          },
          "execution_count": 4
        }
      ]
    },
    {
      "cell_type": "code",
      "metadata": {
        "id": "5NILL-qU3u_E",
        "colab_type": "code",
        "colab": {}
      },
      "source": [
        "# Run this if you want to download the report as csv file format\n",
        "\n",
        "from google.colab import files\n",
        "\n",
        "df.to_csv('review_form.csv',index=False)\n",
        "files.download('review_form.csv')\n"
      ],
      "execution_count": 0,
      "outputs": []
    }
  ]
}