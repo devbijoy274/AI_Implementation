{
  "nbformat": 4,
  "nbformat_minor": 0,
  "metadata": {
    "colab": {
      "name": "Recomendation_System_Capilary.ipynb",
      "version": "0.3.2",
      "provenance": [],
      "collapsed_sections": [],
      "include_colab_link": true
    },
    "kernelspec": {
      "name": "python3",
      "display_name": "Python 3"
    }
  },
  "cells": [
    {
      "cell_type": "markdown",
      "metadata": {
        "id": "view-in-github",
        "colab_type": "text"
      },
      "source": [
        "<a href=\"https://colab.research.google.com/github/devbijoy274/AI_Implementation/blob/master/Recomendation_System_Capilary.ipynb\" target=\"_parent\"><img src=\"https://colab.research.google.com/assets/colab-badge.svg\" alt=\"Open In Colab\"/></a>"
      ]
    },
    {
      "metadata": {
        "id": "_J41KizoJR3L",
        "colab_type": "code",
        "outputId": "1f646eb6-329b-48a8-b291-1a151640348a",
        "colab": {
          "base_uri": "https://localhost:8080/",
          "height": 221
        }
      },
      "cell_type": "code",
      "source": [
        "import pandas as pd\n",
        "from keras import utils\n",
        "\n",
        "productDataFile = pd.read_csv('product_attributes.csv')\n",
        "trainDataFile = pd.read_csv('train.csv')\n",
        "testFile = pd.read_csv('test_nFNPSyV.csv')\n",
        "\n",
        "print(productDataFile.head(5))\n",
        "print(trainDataFile.head(5))"
      ],
      "execution_count": 0,
      "outputs": [
        {
          "output_type": "stream",
          "text": [
            "   productid attribute_name  attributevalue\n",
            "0   11145600            Fit              37\n",
            "1   11145600  Sleeve Length              23\n",
            "2   11145600         Fabric              16\n",
            "3   11145600          Color              25\n",
            "4   11145600       Neckline              51\n",
            "   UserId  productid  Quantity OrderDate\n",
            "0   18075   12322648         1  01/04/18\n",
            "1    6820   12371370         1  01/04/18\n",
            "2    6820   12973004         1  01/04/18\n",
            "3    6820   12657560         1  01/04/18\n",
            "4    6820   11659914         1  01/04/18\n"
          ],
          "name": "stdout"
        }
      ]
    },
    {
      "metadata": {
        "id": "50x9GBMGJejX",
        "colab_type": "code",
        "outputId": "97f61bd0-3e51-41ce-ca2b-049143e144ef",
        "colab": {
          "base_uri": "https://localhost:8080/",
          "height": 54
        }
      },
      "cell_type": "code",
      "source": [
        "#print(productDataFile.size)\n",
        "'''\n",
        "prodId = []\n",
        "fit = []\n",
        "sleeveLength = []\n",
        "fabric = []\n",
        "color = []\n",
        "neckLine = []\n",
        "\n",
        "for i in range(0, len(productDataFile)-4, 5):\n",
        "  prodId.append(productDataFile.iloc[i,0])\n",
        "  fit.append(productDataFile.iloc[i,2])\n",
        "  sleeveLength.append(productDataFile.iloc[i+1,2])\n",
        "  fabric.append(productDataFile.iloc[i+2,2])\n",
        "  color.append(productDataFile.iloc[i+3,2])\n",
        "  neckLine.append(productDataFile.iloc[i+4,2])\n",
        "  \n",
        "prodDf = pd.DataFrame({\n",
        "    'prod_id': prodId\n",
        "})\n",
        "\n",
        "prodDf['fit'] = fit\n",
        "prodDf['sleeve_length'] = sleeveLength\n",
        "prodDf['fabric'] = fabric\n",
        "prodDf['color'] = color\n",
        "prodDf['neck_line'] = neckLine\n",
        "\n",
        "print(prodDf.head(5))\n",
        "'''\n",
        "\n"
      ],
      "execution_count": 0,
      "outputs": [
        {
          "output_type": "execute_result",
          "data": {
            "text/plain": [
              "\"\\nprodId = []\\nfit = []\\nsleeveLength = []\\nfabric = []\\ncolor = []\\nneckLine = []\\n\\nfor i in range(0, len(productDataFile)-4, 5):\\n  prodId.append(productDataFile.iloc[i,0])\\n  fit.append(productDataFile.iloc[i,2])\\n  sleeveLength.append(productDataFile.iloc[i+1,2])\\n  fabric.append(productDataFile.iloc[i+2,2])\\n  color.append(productDataFile.iloc[i+3,2])\\n  neckLine.append(productDataFile.iloc[i+4,2])\\n  \\nprodDf = pd.DataFrame({\\n    'prod_id': prodId\\n})\\n\\nprodDf['fit'] = fit\\nprodDf['sleeve_length'] = sleeveLength\\nprodDf['fabric'] = fabric\\nprodDf['color'] = color\\nprodDf['neck_line'] = neckLine\\n\\nprint(prodDf.head(5))\\n\""
            ]
          },
          "metadata": {
            "tags": []
          },
          "execution_count": 9
        }
      ]
    },
    {
      "metadata": {
        "id": "HgSawGtAJfvk",
        "colab_type": "code",
        "colab": {}
      },
      "cell_type": "code",
      "source": [
        "fit=[]\n",
        "sleeve_length=[]\n",
        "fabric=[]\n",
        "color=[]\n",
        "neck_line=[]\n",
        "category=[]\n",
        "season=[]\n",
        "material=[]\n",
        "collection=[]\n",
        "\n",
        "prodId = productDataFile.iloc[:,0].drop_duplicates()\n",
        "\n",
        "switcher={\n",
        "          'Fit': fits,\n",
        "          'Sleeve Length': sleeve_lengths,\n",
        "          'Fabric': fabrics,\n",
        "          'Color': colors,\n",
        "          'Neckline': neck_lines,\n",
        "          'Category': categories,\n",
        "          'Season': seasons,\n",
        "          'Material': materials,\n",
        "          'collection': collections     \n",
        "}\n",
        "\n",
        "def fits():\n",
        "  return fit.append[productDataFile.iloc[j,2]]\n",
        "def sleeve_lengths():\n",
        "  return sleeve_length.append[productDataFile.iloc[j,2]]\n",
        "def febrics():\n",
        "  return fabric.append[productDataFile.iloc[j,2]]\n",
        "def colors():\n",
        "  return color.append[productDataFile.iloc[j,2]]\n",
        "def neck_lines():\n",
        "  return neck_line.append[productDataFile.iloc[j,2]]\n",
        "def categories():\n",
        "  return category.append[productDataFile.iloc[j,2]]\n",
        "def seasons():\n",
        "  return season.append[productDataFile.iloc[j,2]]\n",
        "def materials():\n",
        "  return material.append[productDataFile.iloc[j,2]]\n",
        "def collections():\n",
        "  return collection.append[productDataFile.iloc[j,2]]\n",
        "\n",
        "for i in prodId:\n",
        "  for j in range(len(productDataFile)):\n",
        "    if i == productDataFile.iloc[j,0]:\n",
        "      switcher.get(productDataFile.iloc[j,1])\n",
        "\n"
      ],
      "execution_count": 0,
      "outputs": []
    },
    {
      "metadata": {
        "id": "rLfimZHuqngi",
        "colab_type": "code",
        "outputId": "3b9bd3ee-84bc-4587-e80f-58a6b238dec0",
        "colab": {
          "base_uri": "https://localhost:8080/",
          "height": 163
        }
      },
      "cell_type": "code",
      "source": [
        "print(fit[:])"
      ],
      "execution_count": 0,
      "outputs": [
        {
          "output_type": "error",
          "ename": "TypeError",
          "evalue": "ignored",
          "traceback": [
            "\u001b[0;31m---------------------------------------------------------------------------\u001b[0m",
            "\u001b[0;31mTypeError\u001b[0m                                 Traceback (most recent call last)",
            "\u001b[0;32m<ipython-input-51-23fdf9010123>\u001b[0m in \u001b[0;36m<module>\u001b[0;34m()\u001b[0m\n\u001b[0;32m----> 1\u001b[0;31m \u001b[0mprint\u001b[0m\u001b[0;34m(\u001b[0m\u001b[0mfit\u001b[0m\u001b[0;34m[\u001b[0m\u001b[0;34m:\u001b[0m\u001b[0;34m]\u001b[0m\u001b[0;34m)\u001b[0m\u001b[0;34m\u001b[0m\u001b[0;34m\u001b[0m\u001b[0m\n\u001b[0m",
            "\u001b[0;31mTypeError\u001b[0m: 'function' object is not subscriptable"
          ]
        }
      ]
    }
  ]
}