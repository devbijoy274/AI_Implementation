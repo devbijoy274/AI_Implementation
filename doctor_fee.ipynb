{
  "nbformat": 4,
  "nbformat_minor": 0,
  "metadata": {
    "colab": {
      "name": "doctor_fee.ipynb",
      "version": "0.3.2",
      "provenance": [],
      "include_colab_link": true
    },
    "kernelspec": {
      "name": "python3",
      "display_name": "Python 3"
    }
  },
  "cells": [
    {
      "cell_type": "markdown",
      "metadata": {
        "id": "view-in-github",
        "colab_type": "text"
      },
      "source": [
        "<a href=\"https://colab.research.google.com/github/devbijoy274/AI_Implementation/blob/master/doctor_fee.ipynb\" target=\"_parent\"><img src=\"https://colab.research.google.com/assets/colab-badge.svg\" alt=\"Open In Colab\"/></a>"
      ]
    },
    {
      "metadata": {
        "id": "NWb7FJHBLcje",
        "colab_type": "code",
        "outputId": "5aa47b3d-2147-479b-f8a7-17fed83fbd5e",
        "colab": {
          "base_uri": "https://localhost:8080/",
          "height": 357
        }
      },
      "cell_type": "code",
      "source": [
        "\n",
        "import pandas as pd\n",
        "\n",
        "train = pd.read_excel(\"Final_Train.xlsx\")\n",
        "test = pd.read_excel(\"Final_Test.xlsx\")\n",
        "\n",
        "\n",
        "print(train.head(5))\n",
        "\n"
      ],
      "execution_count": 0,
      "outputs": [
        {
          "output_type": "stream",
          "text": [
            "                    Qualification           Experience Rating  \\\n",
            "0           BHMS, MD - Homeopathy  24 years experience   100%   \n",
            "1    BAMS, MD - Ayurveda Medicine  12 years experience    98%   \n",
            "2  MBBS, MS - Otorhinolaryngology   9 years experience    NaN   \n",
            "3             BSc - Zoology, BAMS  12 years experience    NaN   \n",
            "4                            BAMS  20 years experience   100%   \n",
            "\n",
            "                          Place         Profile  \\\n",
            "0           Kakkanad, Ernakulam       Homeopath   \n",
            "1         Whitefield, Bangalore        Ayurveda   \n",
            "2    Mathikere - BEL, Bangalore  ENT Specialist   \n",
            "3  Bannerghatta Road, Bangalore        Ayurveda   \n",
            "4         Keelkattalai, Chennai        Ayurveda   \n",
            "\n",
            "                                  Miscellaneous_Info  Fees  \n",
            "0               100% 16 Feedback Kakkanad, Ernakulam   100  \n",
            "1              98% 76 Feedback Whitefield, Bangalore   350  \n",
            "2                                                NaN   300  \n",
            "3  Bannerghatta Road, Bangalore ₹250 Available on...   250  \n",
            "4              100% 4 Feedback Keelkattalai, Chennai   250  \n"
          ],
          "name": "stdout"
        }
      ]
    }
  ]
}